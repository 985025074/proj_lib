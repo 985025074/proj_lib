{
 "cells": [
  {
   "cell_type": "code",
   "execution_count": null,
   "id": "c808f884",
   "metadata": {
    "vscode": {
     "languageId": "plaintext"
    }
   },
   "outputs": [],
   "source": [
    "hello"
   ]
  }
 ],
 "metadata": {
  "language_info": {
   "name": "python"
  }
 },
 "nbformat": 4,
 "nbformat_minor": 5
}
